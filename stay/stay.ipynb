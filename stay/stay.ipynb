{
  "nbformat": 4,
  "nbformat_minor": 0,
  "metadata": {
    "colab": {
      "name": "stay.ipynb",
      "version": "0.3.2",
      "provenance": [],
      "collapsed_sections": []
    },
    "kernelspec": {
      "name": "python3",
      "display_name": "Python 3"
    },
    "accelerator": "GPU"
  },
  "cells": [
    {
      "cell_type": "code",
      "metadata": {
        "id": "jx2oEO_gjscK",
        "colab_type": "code",
        "colab": {}
      },
      "source": [
        "from google.colab import drive\n",
        "drive.mount('/content/drive/')"
      ],
      "execution_count": 0,
      "outputs": []
    },
    {
      "cell_type": "code",
      "metadata": {
        "id": "snqc_mqmfWiX",
        "colab_type": "code",
        "colab": {}
      },
      "source": [
        "import pandas as pd\n",
        "import numpy as np\n",
        "dataset = pd.read_csv(\"https://raw.githubusercontent.com/mwitiderrick/kerasDO/master/HR_comma_sep.csv\")\n"
      ],
      "execution_count": 0,
      "outputs": []
    },
    {
      "cell_type": "code",
      "metadata": {
        "colab_type": "code",
        "outputId": "725423bf-0758-4d57-cc86-b9b492a391fd",
        "id": "y4cb5VK8ksvg",
        "colab": {
          "base_uri": "https://localhost:8080/",
          "height": 195
        }
      },
      "source": [
        "dataset.tail(5)"
      ],
      "execution_count": 5,
      "outputs": [
        {
          "output_type": "execute_result",
          "data": {
            "text/html": [
              "<div>\n",
              "<style scoped>\n",
              "    .dataframe tbody tr th:only-of-type {\n",
              "        vertical-align: middle;\n",
              "    }\n",
              "\n",
              "    .dataframe tbody tr th {\n",
              "        vertical-align: top;\n",
              "    }\n",
              "\n",
              "    .dataframe thead th {\n",
              "        text-align: right;\n",
              "    }\n",
              "</style>\n",
              "<table border=\"1\" class=\"dataframe\">\n",
              "  <thead>\n",
              "    <tr style=\"text-align: right;\">\n",
              "      <th></th>\n",
              "      <th>satisfaction_level</th>\n",
              "      <th>last_evaluation</th>\n",
              "      <th>number_project</th>\n",
              "      <th>average_montly_hours</th>\n",
              "      <th>time_spend_company</th>\n",
              "      <th>Work_accident</th>\n",
              "      <th>left</th>\n",
              "      <th>promotion_last_5years</th>\n",
              "      <th>department</th>\n",
              "      <th>salary</th>\n",
              "    </tr>\n",
              "  </thead>\n",
              "  <tbody>\n",
              "    <tr>\n",
              "      <th>14994</th>\n",
              "      <td>0.40</td>\n",
              "      <td>0.57</td>\n",
              "      <td>2</td>\n",
              "      <td>151</td>\n",
              "      <td>3</td>\n",
              "      <td>0</td>\n",
              "      <td>1</td>\n",
              "      <td>0</td>\n",
              "      <td>support</td>\n",
              "      <td>low</td>\n",
              "    </tr>\n",
              "    <tr>\n",
              "      <th>14995</th>\n",
              "      <td>0.37</td>\n",
              "      <td>0.48</td>\n",
              "      <td>2</td>\n",
              "      <td>160</td>\n",
              "      <td>3</td>\n",
              "      <td>0</td>\n",
              "      <td>1</td>\n",
              "      <td>0</td>\n",
              "      <td>support</td>\n",
              "      <td>low</td>\n",
              "    </tr>\n",
              "    <tr>\n",
              "      <th>14996</th>\n",
              "      <td>0.37</td>\n",
              "      <td>0.53</td>\n",
              "      <td>2</td>\n",
              "      <td>143</td>\n",
              "      <td>3</td>\n",
              "      <td>0</td>\n",
              "      <td>1</td>\n",
              "      <td>0</td>\n",
              "      <td>support</td>\n",
              "      <td>low</td>\n",
              "    </tr>\n",
              "    <tr>\n",
              "      <th>14997</th>\n",
              "      <td>0.11</td>\n",
              "      <td>0.96</td>\n",
              "      <td>6</td>\n",
              "      <td>280</td>\n",
              "      <td>4</td>\n",
              "      <td>0</td>\n",
              "      <td>1</td>\n",
              "      <td>0</td>\n",
              "      <td>support</td>\n",
              "      <td>low</td>\n",
              "    </tr>\n",
              "    <tr>\n",
              "      <th>14998</th>\n",
              "      <td>0.37</td>\n",
              "      <td>0.52</td>\n",
              "      <td>2</td>\n",
              "      <td>158</td>\n",
              "      <td>3</td>\n",
              "      <td>0</td>\n",
              "      <td>1</td>\n",
              "      <td>0</td>\n",
              "      <td>support</td>\n",
              "      <td>low</td>\n",
              "    </tr>\n",
              "  </tbody>\n",
              "</table>\n",
              "</div>"
            ],
            "text/plain": [
              "       satisfaction_level  last_evaluation  number_project  \\\n",
              "14994                0.40             0.57               2   \n",
              "14995                0.37             0.48               2   \n",
              "14996                0.37             0.53               2   \n",
              "14997                0.11             0.96               6   \n",
              "14998                0.37             0.52               2   \n",
              "\n",
              "       average_montly_hours  time_spend_company  Work_accident  left  \\\n",
              "14994                   151                   3              0     1   \n",
              "14995                   160                   3              0     1   \n",
              "14996                   143                   3              0     1   \n",
              "14997                   280                   4              0     1   \n",
              "14998                   158                   3              0     1   \n",
              "\n",
              "       promotion_last_5years department salary  \n",
              "14994                      0    support    low  \n",
              "14995                      0    support    low  \n",
              "14996                      0    support    low  \n",
              "14997                      0    support    low  \n",
              "14998                      0    support    low  "
            ]
          },
          "metadata": {
            "tags": []
          },
          "execution_count": 5
        }
      ]
    },
    {
      "cell_type": "code",
      "metadata": {
        "colab_type": "code",
        "outputId": "7cf95b9a-5b67-4f0c-d946-e35c2be2fdbd",
        "id": "k0N6p8GaknDp",
        "colab": {
          "base_uri": "https://localhost:8080/",
          "height": 215
        }
      },
      "source": [
        "# One hot encoding of categorical values such as depertment and salary as we can see\n",
        "# They are not numbers and the model can't process them as strings\n",
        "feats = ['department','salary']\n",
        "final = pd.get_dummies(dataset,columns=feats,drop_first=True)\n",
        "final.head()\n",
        "\n"
      ],
      "execution_count": 6,
      "outputs": [
        {
          "output_type": "execute_result",
          "data": {
            "text/html": [
              "<div>\n",
              "<style scoped>\n",
              "    .dataframe tbody tr th:only-of-type {\n",
              "        vertical-align: middle;\n",
              "    }\n",
              "\n",
              "    .dataframe tbody tr th {\n",
              "        vertical-align: top;\n",
              "    }\n",
              "\n",
              "    .dataframe thead th {\n",
              "        text-align: right;\n",
              "    }\n",
              "</style>\n",
              "<table border=\"1\" class=\"dataframe\">\n",
              "  <thead>\n",
              "    <tr style=\"text-align: right;\">\n",
              "      <th></th>\n",
              "      <th>satisfaction_level</th>\n",
              "      <th>last_evaluation</th>\n",
              "      <th>number_project</th>\n",
              "      <th>average_montly_hours</th>\n",
              "      <th>time_spend_company</th>\n",
              "      <th>Work_accident</th>\n",
              "      <th>left</th>\n",
              "      <th>promotion_last_5years</th>\n",
              "      <th>department_RandD</th>\n",
              "      <th>department_accounting</th>\n",
              "      <th>department_hr</th>\n",
              "      <th>department_management</th>\n",
              "      <th>department_marketing</th>\n",
              "      <th>department_product_mng</th>\n",
              "      <th>department_sales</th>\n",
              "      <th>department_support</th>\n",
              "      <th>department_technical</th>\n",
              "      <th>salary_low</th>\n",
              "      <th>salary_medium</th>\n",
              "    </tr>\n",
              "  </thead>\n",
              "  <tbody>\n",
              "    <tr>\n",
              "      <th>0</th>\n",
              "      <td>0.38</td>\n",
              "      <td>0.53</td>\n",
              "      <td>2</td>\n",
              "      <td>157</td>\n",
              "      <td>3</td>\n",
              "      <td>0</td>\n",
              "      <td>1</td>\n",
              "      <td>0</td>\n",
              "      <td>0</td>\n",
              "      <td>0</td>\n",
              "      <td>0</td>\n",
              "      <td>0</td>\n",
              "      <td>0</td>\n",
              "      <td>0</td>\n",
              "      <td>1</td>\n",
              "      <td>0</td>\n",
              "      <td>0</td>\n",
              "      <td>1</td>\n",
              "      <td>0</td>\n",
              "    </tr>\n",
              "    <tr>\n",
              "      <th>1</th>\n",
              "      <td>0.80</td>\n",
              "      <td>0.86</td>\n",
              "      <td>5</td>\n",
              "      <td>262</td>\n",
              "      <td>6</td>\n",
              "      <td>0</td>\n",
              "      <td>1</td>\n",
              "      <td>0</td>\n",
              "      <td>0</td>\n",
              "      <td>0</td>\n",
              "      <td>0</td>\n",
              "      <td>0</td>\n",
              "      <td>0</td>\n",
              "      <td>0</td>\n",
              "      <td>1</td>\n",
              "      <td>0</td>\n",
              "      <td>0</td>\n",
              "      <td>0</td>\n",
              "      <td>1</td>\n",
              "    </tr>\n",
              "    <tr>\n",
              "      <th>2</th>\n",
              "      <td>0.11</td>\n",
              "      <td>0.88</td>\n",
              "      <td>7</td>\n",
              "      <td>272</td>\n",
              "      <td>4</td>\n",
              "      <td>0</td>\n",
              "      <td>1</td>\n",
              "      <td>0</td>\n",
              "      <td>0</td>\n",
              "      <td>0</td>\n",
              "      <td>0</td>\n",
              "      <td>0</td>\n",
              "      <td>0</td>\n",
              "      <td>0</td>\n",
              "      <td>1</td>\n",
              "      <td>0</td>\n",
              "      <td>0</td>\n",
              "      <td>0</td>\n",
              "      <td>1</td>\n",
              "    </tr>\n",
              "    <tr>\n",
              "      <th>3</th>\n",
              "      <td>0.72</td>\n",
              "      <td>0.87</td>\n",
              "      <td>5</td>\n",
              "      <td>223</td>\n",
              "      <td>5</td>\n",
              "      <td>0</td>\n",
              "      <td>1</td>\n",
              "      <td>0</td>\n",
              "      <td>0</td>\n",
              "      <td>0</td>\n",
              "      <td>0</td>\n",
              "      <td>0</td>\n",
              "      <td>0</td>\n",
              "      <td>0</td>\n",
              "      <td>1</td>\n",
              "      <td>0</td>\n",
              "      <td>0</td>\n",
              "      <td>1</td>\n",
              "      <td>0</td>\n",
              "    </tr>\n",
              "    <tr>\n",
              "      <th>4</th>\n",
              "      <td>0.37</td>\n",
              "      <td>0.52</td>\n",
              "      <td>2</td>\n",
              "      <td>159</td>\n",
              "      <td>3</td>\n",
              "      <td>0</td>\n",
              "      <td>1</td>\n",
              "      <td>0</td>\n",
              "      <td>0</td>\n",
              "      <td>0</td>\n",
              "      <td>0</td>\n",
              "      <td>0</td>\n",
              "      <td>0</td>\n",
              "      <td>0</td>\n",
              "      <td>1</td>\n",
              "      <td>0</td>\n",
              "      <td>0</td>\n",
              "      <td>1</td>\n",
              "      <td>0</td>\n",
              "    </tr>\n",
              "  </tbody>\n",
              "</table>\n",
              "</div>"
            ],
            "text/plain": [
              "   satisfaction_level  last_evaluation  number_project  average_montly_hours  \\\n",
              "0                0.38             0.53               2                   157   \n",
              "1                0.80             0.86               5                   262   \n",
              "2                0.11             0.88               7                   272   \n",
              "3                0.72             0.87               5                   223   \n",
              "4                0.37             0.52               2                   159   \n",
              "\n",
              "   time_spend_company  Work_accident  left  promotion_last_5years  \\\n",
              "0                   3              0     1                      0   \n",
              "1                   6              0     1                      0   \n",
              "2                   4              0     1                      0   \n",
              "3                   5              0     1                      0   \n",
              "4                   3              0     1                      0   \n",
              "\n",
              "   department_RandD  department_accounting  department_hr  \\\n",
              "0                 0                      0              0   \n",
              "1                 0                      0              0   \n",
              "2                 0                      0              0   \n",
              "3                 0                      0              0   \n",
              "4                 0                      0              0   \n",
              "\n",
              "   department_management  department_marketing  department_product_mng  \\\n",
              "0                      0                     0                       0   \n",
              "1                      0                     0                       0   \n",
              "2                      0                     0                       0   \n",
              "3                      0                     0                       0   \n",
              "4                      0                     0                       0   \n",
              "\n",
              "   department_sales  department_support  department_technical  salary_low  \\\n",
              "0                 1                   0                     0           1   \n",
              "1                 1                   0                     0           0   \n",
              "2                 1                   0                     0           0   \n",
              "3                 1                   0                     0           1   \n",
              "4                 1                   0                     0           1   \n",
              "\n",
              "   salary_medium  \n",
              "0              0  \n",
              "1              1  \n",
              "2              1  \n",
              "3              0  \n",
              "4              0  "
            ]
          },
          "metadata": {
            "tags": []
          },
          "execution_count": 6
        }
      ]
    },
    {
      "cell_type": "code",
      "metadata": {
        "id": "Y1ICOSuMlPvR",
        "colab_type": "code",
        "colab": {}
      },
      "source": [
        "# Now we have to prepare our model for the training so we use the left as category to know if they left\n",
        "\n",
        "from sklearn.model_selection import train_test_split\n",
        "X = final.drop(['left'],axis=1).values\n",
        "y = final['left'].values\n",
        "# Now we split the data depending on our preference\n",
        "# In this case we will use 80 - 20 spliting\n",
        "X_train, X_test, y_train, y_test = train_test_split(X, y, test_size=0.25)"
      ],
      "execution_count": 0,
      "outputs": []
    },
    {
      "cell_type": "code",
      "metadata": {
        "id": "3TlEhDewDrZv",
        "colab_type": "code",
        "colab": {
          "base_uri": "https://localhost:8080/",
          "height": 50
        },
        "outputId": "88d3b3b7-8a77-447c-f48b-c8a6d802eb18"
      },
      "source": [
        "for num,x in enumerate(X):\n",
        "    print(num, x) if num == 1 else x"
      ],
      "execution_count": 62,
      "outputs": [
        {
          "output_type": "stream",
          "text": [
            "1 [  0.8    0.86   5.   262.     6.     0.     0.     0.     0.     0.\n",
            "   0.     0.     0.     1.     0.     0.     0.     1.  ]\n"
          ],
          "name": "stdout"
        }
      ]
    },
    {
      "cell_type": "code",
      "metadata": {
        "id": "xN9SAsdclncp",
        "colab_type": "code",
        "colab": {}
      },
      "source": [
        "# We can now use a scaler privided by scikit-learn to scale our data so that none\n",
        "# of it matters more than the other for our model\n",
        "\n",
        "from sklearn.preprocessing import StandardScaler\n",
        "sc = StandardScaler()\n",
        "X_train = sc.fit_transform(X_train)\n",
        "X_test = sc.transform(X_test)\n"
      ],
      "execution_count": 0,
      "outputs": []
    },
    {
      "cell_type": "code",
      "metadata": {
        "id": "-M_z510mnfym",
        "colab_type": "code",
        "colab": {}
      },
      "source": [
        "# We will proceed with the construction of our model\n",
        "import keras\n",
        "from keras.models import Sequential\n",
        "from keras.layers import Dense, Dropout"
      ],
      "execution_count": 0,
      "outputs": []
    },
    {
      "cell_type": "markdown",
      "metadata": {
        "id": "nGQmX6T1Ns8-",
        "colab_type": "text"
      },
      "source": [
        "### Adding a Dropout Layer helps us to generalize more by helping to reduce the overfitting"
      ]
    },
    {
      "cell_type": "code",
      "metadata": {
        "id": "OLOeeCmHM6bn",
        "colab_type": "code",
        "outputId": "cb8bc6d7-223f-44b2-d7f2-b36fe8acea15",
        "colab": {
          "base_uri": "https://localhost:8080/",
          "height": 154
        }
      },
      "source": [
        "\n",
        "classifier = Sequential()\n",
        "classifier.add(Dense(9, kernel_initializer = \"uniform\", activation = \"relu\", input_dim=18))\n",
        "classifier.add(Dropout(rate = 0.1))\n",
        "classifier.add(Dense(1, kernel_initializer = \"uniform\", activation = \"sigmoid\"))\n",
        "classifier.compile(optimizer= \"adam\",loss = \"binary_crossentropy\",metrics = [\"accuracy\"])\n",
        "classifier.fit(X_train, y_train, batch_size = 10, epochs = 1)\n",
        "y_pred = classifier.predict(X_test)\n",
        "y_pred = (y_pred > 0.5)\n",
        "from sklearn.metrics import confusion_matrix\n",
        "cm = confusion_matrix(y_test, y_pred)\n",
        "cm"
      ],
      "execution_count": 14,
      "outputs": [
        {
          "output_type": "stream",
          "text": [
            "WARNING:tensorflow:From /usr/local/lib/python3.6/dist-packages/keras/backend/tensorflow_backend.py:3445: calling dropout (from tensorflow.python.ops.nn_ops) with keep_prob is deprecated and will be removed in a future version.\n",
            "Instructions for updating:\n",
            "Please use `rate` instead of `keep_prob`. Rate should be set to `rate = 1 - keep_prob`.\n",
            "Epoch 1/1\n",
            "11249/11249 [==============================] - 3s 285us/step - loss: 0.4277 - acc: 0.7986\n"
          ],
          "name": "stdout"
        },
        {
          "output_type": "execute_result",
          "data": {
            "text/plain": [
              "array([[2756,   92],\n",
              "       [ 548,  354]])"
            ]
          },
          "metadata": {
            "tags": []
          },
          "execution_count": 14
        }
      ]
    },
    {
      "cell_type": "markdown",
      "metadata": {
        "id": "02wjvuMbQKwF",
        "colab_type": "text"
      },
      "source": [
        "## (2756+354)/3750=82.9\n",
        "\n",
        "Now we will use K-Folds to get better accuracy by doing cross-validation with different parts of our dataset"
      ]
    },
    {
      "cell_type": "code",
      "metadata": {
        "id": "0pi0MOKL_ijI",
        "colab_type": "code",
        "colab": {}
      },
      "source": [
        "from sklearn.model_selection import GridSearchCV\n",
        "def make_classifier(optimizer):\n",
        "    classifier = Sequential()\n",
        "    classifier.add(Dense(9, kernel_initializer = \"uniform\", activation = \"relu\", input_dim=18))\n",
        "    classifier.add(Dense(1, kernel_initializer = \"uniform\", activation = \"sigmoid\"))\n",
        "    classifier.compile(optimizer= optimizer,loss = \"binary_crossentropy\",metrics = [\"accuracy\"])\n",
        "    return classifier"
      ],
      "execution_count": 0,
      "outputs": []
    },
    {
      "cell_type": "code",
      "metadata": {
        "id": "eqLNls6u_psu",
        "colab_type": "code",
        "colab": {}
      },
      "source": [
        "classifier = KerasClassifier(build_fn = make_classifier)"
      ],
      "execution_count": 0,
      "outputs": []
    },
    {
      "cell_type": "code",
      "metadata": {
        "id": "6psaowdr_s-A",
        "colab_type": "code",
        "colab": {}
      },
      "source": [
        "params = {\n",
        "    'batch_size':[20,35],\n",
        "    'epochs':[2,3],\n",
        "    'optimizer':['adam','rmsprop']\n",
        "}"
      ],
      "execution_count": 0,
      "outputs": []
    },
    {
      "cell_type": "code",
      "metadata": {
        "id": "ZyPD7wmb_wJK",
        "colab_type": "code",
        "colab": {}
      },
      "source": [
        "grid_search = GridSearchCV(estimator=classifier,\n",
        "                           param_grid=params,\n",
        "                           scoring=\"accuracy\",\n",
        "                           cv=2)"
      ],
      "execution_count": 0,
      "outputs": []
    },
    {
      "cell_type": "code",
      "metadata": {
        "id": "GwkJOFJV_zFZ",
        "colab_type": "code",
        "colab": {
          "base_uri": "https://localhost:8080/",
          "height": 1462
        },
        "outputId": "2657c149-87ab-4d64-bb39-35e556d34e5a"
      },
      "source": [
        "grid_search = grid_search.fit(X_train,y_train)"
      ],
      "execution_count": 37,
      "outputs": [
        {
          "output_type": "stream",
          "text": [
            "Epoch 1/2\n",
            "5624/5624 [==============================] - 1s 191us/step - loss: 0.5668 - acc: 0.7630\n",
            "Epoch 2/2\n",
            "5624/5624 [==============================] - 1s 146us/step - loss: 0.3724 - acc: 0.8405\n",
            "Epoch 1/2\n",
            "5625/5625 [==============================] - 1s 190us/step - loss: 0.5728 - acc: 0.7676\n",
            "Epoch 2/2\n",
            "5625/5625 [==============================] - 1s 128us/step - loss: 0.3924 - acc: 0.7995\n",
            "Epoch 1/2\n",
            "5624/5624 [==============================] - 1s 157us/step - loss: 0.5696 - acc: 0.7628\n",
            "Epoch 2/2\n",
            "5624/5624 [==============================] - 1s 117us/step - loss: 0.4033 - acc: 0.7959\n",
            "Epoch 1/2\n",
            "5625/5625 [==============================] - 1s 161us/step - loss: 0.5718 - acc: 0.7620\n",
            "Epoch 2/2\n",
            "5625/5625 [==============================] - 1s 120us/step - loss: 0.4303 - acc: 0.7625\n",
            "Epoch 1/3\n",
            "5624/5624 [==============================] - 1s 186us/step - loss: 0.5740 - acc: 0.7697\n",
            "Epoch 2/3\n",
            "5624/5624 [==============================] - 1s 131us/step - loss: 0.3804 - acc: 0.8121\n",
            "Epoch 3/3\n",
            "5624/5624 [==============================] - 1s 132us/step - loss: 0.3010 - acc: 0.8826\n",
            "Epoch 1/3\n",
            "5625/5625 [==============================] - 1s 192us/step - loss: 0.5772 - acc: 0.7595\n",
            "Epoch 2/3\n",
            "5625/5625 [==============================] - 1s 131us/step - loss: 0.4013 - acc: 0.7995\n",
            "Epoch 3/3\n",
            "5625/5625 [==============================] - 1s 132us/step - loss: 0.3417 - acc: 0.8108\n",
            "Epoch 1/3\n",
            "5624/5624 [==============================] - 1s 180us/step - loss: 0.5733 - acc: 0.7628\n",
            "Epoch 2/3\n",
            "5624/5624 [==============================] - 1s 119us/step - loss: 0.4125 - acc: 0.7936\n",
            "Epoch 3/3\n",
            "5624/5624 [==============================] - 1s 121us/step - loss: 0.3520 - acc: 0.8083\n",
            "Epoch 1/3\n",
            "5625/5625 [==============================] - 1s 182us/step - loss: 0.5778 - acc: 0.7625\n",
            "Epoch 2/3\n",
            "5625/5625 [==============================] - 1s 119us/step - loss: 0.4258 - acc: 0.7868\n",
            "Epoch 3/3\n",
            "5625/5625 [==============================] - 1s 121us/step - loss: 0.3695 - acc: 0.7982\n",
            "Epoch 1/2\n",
            "5624/5624 [==============================] - 1s 151us/step - loss: 0.6194 - acc: 0.7601\n",
            "Epoch 2/2\n",
            "5624/5624 [==============================] - 0s 76us/step - loss: 0.4489 - acc: 0.7953\n",
            "Epoch 1/2\n",
            "5625/5625 [==============================] - 1s 155us/step - loss: 0.6221 - acc: 0.7598\n",
            "Epoch 2/2\n",
            "5625/5625 [==============================] - 0s 75us/step - loss: 0.4599 - acc: 0.7616\n",
            "Epoch 1/2\n",
            "5624/5624 [==============================] - 1s 149us/step - loss: 0.6343 - acc: 0.7603\n",
            "Epoch 2/2\n",
            "5624/5624 [==============================] - 0s 69us/step - loss: 0.4896 - acc: 0.7852\n",
            "Epoch 1/2\n",
            "5625/5625 [==============================] - 1s 153us/step - loss: 0.6307 - acc: 0.7611\n",
            "Epoch 2/2\n",
            "5625/5625 [==============================] - 0s 71us/step - loss: 0.4955 - acc: 0.7641\n",
            "Epoch 1/3\n",
            "5624/5624 [==============================] - 1s 173us/step - loss: 0.6272 - acc: 0.7584\n",
            "Epoch 2/3\n",
            "5624/5624 [==============================] - 0s 78us/step - loss: 0.4546 - acc: 0.7911\n",
            "Epoch 3/3\n",
            "5624/5624 [==============================] - 0s 77us/step - loss: 0.3662 - acc: 0.8510\n",
            "Epoch 1/3\n",
            "5625/5625 [==============================] - 1s 180us/step - loss: 0.6237 - acc: 0.7611\n",
            "Epoch 2/3\n",
            "5625/5625 [==============================] - 0s 78us/step - loss: 0.4606 - acc: 0.7764\n",
            "Epoch 3/3\n",
            "5625/5625 [==============================] - 0s 77us/step - loss: 0.3909 - acc: 0.7982\n",
            "Epoch 1/3\n",
            "5624/5624 [==============================] - 1s 173us/step - loss: 0.6245 - acc: 0.7621\n",
            "Epoch 2/3\n",
            "5624/5624 [==============================] - 0s 76us/step - loss: 0.4797 - acc: 0.7724\n",
            "Epoch 3/3\n",
            "5624/5624 [==============================] - 0s 81us/step - loss: 0.3954 - acc: 0.8041\n",
            "Epoch 1/3\n",
            "5625/5625 [==============================] - 1s 199us/step - loss: 0.6229 - acc: 0.7611\n",
            "Epoch 2/3\n",
            "5625/5625 [==============================] - 0s 83us/step - loss: 0.4784 - acc: 0.7625\n",
            "Epoch 3/3\n",
            "5625/5625 [==============================] - 0s 82us/step - loss: 0.4183 - acc: 0.7625\n",
            "Epoch 1/3\n",
            "11249/11249 [==============================] - 2s 222us/step - loss: 0.4838 - acc: 0.8066\n",
            "Epoch 2/3\n",
            "11249/11249 [==============================] - 2s 168us/step - loss: 0.2647 - acc: 0.9062\n",
            "Epoch 3/3\n",
            "11249/11249 [==============================] - 2s 151us/step - loss: 0.2028 - acc: 0.9372\n"
          ],
          "name": "stdout"
        }
      ]
    },
    {
      "cell_type": "code",
      "metadata": {
        "id": "q0WZmD-C_0wn",
        "colab_type": "code",
        "colab": {
          "base_uri": "https://localhost:8080/",
          "height": 34
        },
        "outputId": "c9e05e22-bdaf-4e9e-95bc-95a75d3dedae"
      },
      "source": [
        "best_param = grid_search.best_params_\n",
        "best_accuracy = grid_search.best_score_\n",
        "best_param"
      ],
      "execution_count": 38,
      "outputs": [
        {
          "output_type": "execute_result",
          "data": {
            "text/plain": [
              "{'batch_size': 20, 'epochs': 3, 'optimizer': 'adam'}"
            ]
          },
          "metadata": {
            "tags": []
          },
          "execution_count": 38
        }
      ]
    },
    {
      "cell_type": "code",
      "metadata": {
        "id": "1vTP14yq_5El",
        "colab_type": "code",
        "colab": {
          "base_uri": "https://localhost:8080/",
          "height": 34
        },
        "outputId": "0ffbcbe1-6bfd-4fe8-b480-1c95c43f5e25"
      },
      "source": [
        "best_accuracy"
      ],
      "execution_count": 39,
      "outputs": [
        {
          "output_type": "execute_result",
          "data": {
            "text/plain": [
              "0.8644323939905769"
            ]
          },
          "metadata": {
            "tags": []
          },
          "execution_count": 39
        }
      ]
    },
    {
      "cell_type": "markdown",
      "metadata": {
        "id": "Cm8ffKUUR7r2",
        "colab_type": "text"
      },
      "source": [
        "0.8644323939905769### As we can see, we have improved in small steps the performance of our model, with K-Folds we\n",
        "### have the hability to do some more training to explore the data and validate with it if we don't have\n",
        "### a huge dataset like ours\n",
        "\n",
        "## Increasing accuracy to 0.8644323939905769%"
      ]
    },
    {
      "cell_type": "code",
      "metadata": {
        "id": "7l_0msqGoUvF",
        "colab_type": "code",
        "colab": {}
      },
      "source": [
        "new_pred_neg = grid_search.predict(sc.transform(np.array([[  0.56,   0.58,  4.,   258.,     3.,     0.,     0.,     0.,     0.,     0.,   0.,     0.,     0.,     1.,     0.,     0.,     0.,     1.,  ]])))\n",
        "new_pred_pos = grid_search.predict(sc.transform(np.array([[  0.8,    0.86,   5.,   262.,     6.,     0.,     0.,     0.,     0.,     0.,   0.,     0.,     0.,     1.,     0.,     0.,     0.,     1.  ]])))\n"
      ],
      "execution_count": 0,
      "outputs": []
    },
    {
      "cell_type": "code",
      "metadata": {
        "id": "NJ4lO-9QEs5l",
        "colab_type": "code",
        "colab": {
          "base_uri": "https://localhost:8080/",
          "height": 34
        },
        "outputId": "a7be64e3-6f15-4044-f312-3ab78c456079"
      },
      "source": [
        "# new_pred_pos = new_pred_pos > 0.5\n",
        "new_pred_pos"
      ],
      "execution_count": 64,
      "outputs": [
        {
          "output_type": "execute_result",
          "data": {
            "text/plain": [
              "array([[1]])"
            ]
          },
          "metadata": {
            "tags": []
          },
          "execution_count": 64
        }
      ]
    }
  ]
}